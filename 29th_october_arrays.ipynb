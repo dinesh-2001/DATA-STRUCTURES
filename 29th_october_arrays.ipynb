{
 "cells": [
  {
   "cell_type": "markdown",
   "id": "fa36c54e",
   "metadata": {},
   "source": [
    "# 1. Given an array, check if it contains any duplicates or not.\n",
    "# arr = [1, 2, 4, 2, 5, 9]\n",
    "# Output = True"
   ]
  },
  {
   "cell_type": "code",
   "execution_count": 1,
   "id": "dc18ded8",
   "metadata": {},
   "outputs": [
    {
     "name": "stdout",
     "output_type": "stream",
     "text": [
      "True\n"
     ]
    }
   ],
   "source": [
    "arr = [1, 2, 4, 2, 5, 9]\n",
    "contains_duplicates = len(arr) != len(set(arr))\n",
    "print(contains_duplicates)"
   ]
  },
  {
   "cell_type": "markdown",
   "id": "efa23148",
   "metadata": {},
   "source": [
    "# 2. Given an array and an integer k, rotate the array to the right by k steps.\n",
    "# arr = [1, 2, 3, 4, 5, 6, 7] k = 3\n",
    "# Output = [5, 6, 7, 1, 2, 3, 4]"
   ]
  },
  {
   "cell_type": "code",
   "execution_count": 17,
   "id": "63162fde",
   "metadata": {},
   "outputs": [
    {
     "name": "stdout",
     "output_type": "stream",
     "text": [
      "4\n",
      "[5, 6, 7, 1, 2, 3, 4]\n"
     ]
    }
   ],
   "source": [
    "arr = [1, 2, 3, 4, 5, 6, 7]\n",
    "k = 3\n",
    "print(len(arr)-k)\n",
    "arr1 = arr [len(arr)-k:  ]\n",
    "for i in arr1[::-1]:\n",
    "    arr.pop()\n",
    "    arr.insert(0,i)\n",
    "    \n",
    "print(arr)"
   ]
  },
  {
   "cell_type": "markdown",
   "id": "819a111f",
   "metadata": {},
   "source": [
    "# 3. Reverse the given array in-place, means without using any extra data structure.\n",
    "# arr = [2, 4, 5, 7, 9, 12]\n",
    "# Output = [12, 9, 7, 5, 4, 2]"
   ]
  },
  {
   "cell_type": "code",
   "execution_count": 3,
   "id": "a92dd071",
   "metadata": {},
   "outputs": [
    {
     "name": "stdout",
     "output_type": "stream",
     "text": [
      "[12, 9, 7, 5, 4, 2]\n"
     ]
    }
   ],
   "source": [
    "arr = [2, 4, 5, 7, 9, 12]\n",
    "print(arr[::-1])"
   ]
  },
  {
   "cell_type": "markdown",
   "id": "fe69c103",
   "metadata": {},
   "source": [
    "# 4. Given an array of integers, find the maximum element in an array\n",
    "# arr = [10, 5, 20, 8, 15]\n",
    "# Output = 20"
   ]
  },
  {
   "cell_type": "code",
   "execution_count": 4,
   "id": "4f0d231e",
   "metadata": {},
   "outputs": [
    {
     "name": "stdout",
     "output_type": "stream",
     "text": [
      "20\n"
     ]
    }
   ],
   "source": [
    "arr = [10, 5, 20, 8, 15]\n",
    "print(max(arr))"
   ]
  },
  {
   "cell_type": "markdown",
   "id": "5bda92c7",
   "metadata": {},
   "source": [
    "# 5. Given a sorted array, remove the duplicate element without using any extra data structure.\n",
    "# arr = [1, 1, 2, 2, 2, 3, 3, 4, 4, 4, 5, 5]\n",
    "# Output = [1, 2, 3, 4, 5]"
   ]
  },
  {
   "cell_type": "code",
   "execution_count": 8,
   "id": "65471ff1",
   "metadata": {},
   "outputs": [
    {
     "name": "stdout",
     "output_type": "stream",
     "text": [
      "[1, 2, 3, 4, 5]\n"
     ]
    }
   ],
   "source": [
    "arr = [1, 1, 2, 2, 2, 3, 3, 4, 4, 4, 5, 5]\n",
    "print(list(set(arr)))"
   ]
  },
  {
   "cell_type": "code",
   "execution_count": null,
   "id": "20d7b99e",
   "metadata": {},
   "outputs": [],
   "source": []
  }
 ],
 "metadata": {
  "kernelspec": {
   "display_name": "Python 3 (ipykernel)",
   "language": "python",
   "name": "python3"
  },
  "language_info": {
   "codemirror_mode": {
    "name": "ipython",
    "version": 3
   },
   "file_extension": ".py",
   "mimetype": "text/x-python",
   "name": "python",
   "nbconvert_exporter": "python",
   "pygments_lexer": "ipython3",
   "version": "3.9.13"
  }
 },
 "nbformat": 4,
 "nbformat_minor": 5
}
